{
 "cells": [
  {
   "cell_type": "markdown",
   "metadata": {},
   "source": [
    "# Worksheet 05\n",
    "\n",
    "Name:  shengwen ouyang\n",
    "UID: U01208928\n",
    "\n",
    "### Topics\n",
    "\n",
    "- Cost Functions\n",
    "- Kmeans\n",
    "\n",
    "### Cost Function\n",
    "\n",
    "Solving Data Science problems often starts by defining a metric with which to evaluate solutions were you able to find some. This metric is called a cost function. Data Science then backtracks and tries to find a process / algorithm to find solutions that can optimize for that cost function.\n",
    "\n",
    "For example suppose you are asked to cluster three points A, B, C into two non-empty clusters. If someone gave you the solution `{A, B}, {C}`, how would you evaluate that this is a good solution?\n",
    "\n",
    "Notice that because the clusters need to be non-empty and all points must be assigned to a cluster, it must be that two of the three points will be together in one cluster and the third will be alone in the other cluster.\n",
    "\n",
    "In the above solution, if A and B are closer than A and C, and B and C, then this is a good solution. The smaller the distance between the two points in the same cluster (here A and B), the better the solution. So we can define our cost function to be that distance (between A and B here)!\n",
    "\n",
    "The algorithm / process would involve clustering together the two closest points and put the third in its own cluster. This process optimizes for that cost function because no other pair of points could have a lower distance (although it could equal it)."
   ]
  },
  {
   "cell_type": "markdown",
   "metadata": {},
   "source": [
    "### K means\n",
    "\n",
    "a) (1-dimensional clustering) Walk through Lloyd's algorithm step by step on the following dataset:\n",
    "\n",
    "`[0, .5, 1.5, 2, 6, 6.5, 7]` (note: each of these are 1-dimensional data points)\n",
    "\n",
    "Given the initial centroids:\n",
    "\n",
    "`[0, 2]`"
   ]
  },
  {
   "cell_type": "markdown",
   "metadata": {},
   "source": [
    "\n",
    "\n",
    "**Assign Points to Closest Centroid**\n",
    "   - To 0: [0, 0.5]\n",
    "   - To 2: [1.5, 2, 6, 6.5, 7]\n",
    "\n",
    "**Calculate New Centroids**\n",
    "   - New Centroid 1: 0.25 (from [0, 0.5])\n",
    "   - New Centroid 2: 4.6 (from [1.5, 2, 6, 6.5, 7])\n",
    "\n",
    "**Repeat with New Centroids**\n",
    "   - To 0.25: [0, 0.5, 1.5]\n",
    "   - To 4.6: [2, 6, 6.5, 7]\n",
    "\n",
    "**Final Centroids**\n",
    "   - Centroid 1: 0.67\n",
    "   - Centroid 2: 5.375\n",
    "\n",
    "**Result:**\n",
    "- Cluster 1: [0, 0.5, 1.5]\n",
    "- Cluster 2: [2, 6, 6.5, 7]"
   ]
  },
  {
   "cell_type": "markdown",
   "metadata": {},
   "source": [
    "b) Describe in plain english what the cost function for k means is."
   ]
  },
  {
   "cell_type": "markdown",
   "metadata": {},
   "source": [
    "\n",
    "The cost function for k-means measures the sum of the squared distances between each data point and its nearest cluster centroid."
   ]
  },
  {
   "cell_type": "markdown",
   "metadata": {},
   "source": [
    "c) For the same number of clusters K, why could there be very different solutions to the K means algorithm on a given dataset?"
   ]
  },
  {
   "cell_type": "markdown",
   "metadata": {},
   "source": [
    "The K-means algorithm can yield different solutions for the same number of clusters due to varying initial centroid positions"
   ]
  },
  {
   "cell_type": "markdown",
   "metadata": {},
   "source": [
    "d) Does Lloyd's Algorithm always converge? Why / why not?"
   ]
  },
  {
   "cell_type": "markdown",
   "metadata": {},
   "source": [
    "\n",
    "Lloyd's Algorithm always converges, but it may converge to a local minimum"
   ]
  },
  {
   "cell_type": "markdown",
   "metadata": {},
   "source": [
    "e) Follow along in class the implementation of Kmeans"
   ]
  },
  {
   "cell_type": "code",
   "execution_count": 1,
   "metadata": {},
   "outputs": [
    {
     "name": "stdout",
     "output_type": "stream",
     "text": [
      "[[-2.96683383  1.73918315]\n",
      " [ 1.14765262  1.2349945 ]\n",
      " [ 2.25181315 -5.10627851]\n",
      " [ 1.46656443 -3.31507468]]\n",
      "[[-2.88115222  1.69834437]\n",
      " [ 1.22966881  1.26539332]\n",
      " [ 2.08670542 -5.01396451]\n",
      " [ 1.45146301 -3.15682991]]\n",
      "[[-2.85878484  1.69173837]\n",
      " [ 1.25499823  1.321856  ]\n",
      " [ 1.99362542 -4.89194895]\n",
      " [ 1.40897539 -2.89297315]]\n",
      "[[-2.85878484  1.69173837]\n",
      " [ 1.25336825  1.35629471]\n",
      " [ 1.93566265 -4.74012089]\n",
      " [ 1.35840069 -2.58323358]]\n",
      "[[-2.85878484  1.69173837]\n",
      " [ 1.27739259  1.40789235]\n",
      " [ 1.90592067 -4.61136142]\n",
      " [ 1.21182905 -2.2248236 ]]\n",
      "[[-2.815287    1.65902027]\n",
      " [ 1.35836459  1.4770244 ]\n",
      " [ 1.9057721  -4.51204879]\n",
      " [ 0.98749121 -1.91326588]]\n",
      "[[-2.815287    1.65902027]\n",
      " [ 1.44851473  1.5718595 ]\n",
      " [ 1.95141633 -4.41054829]\n",
      " [ 0.62470412 -1.55138173]]\n",
      "[[-2.83059035  1.68832261]\n",
      " [ 1.53974012  1.71322579]\n",
      " [ 1.91424319 -4.28755797]\n",
      " [ 0.40732885 -1.0083976 ]]\n",
      "[[-2.90101537  1.7680821 ]\n",
      " [ 1.72390637  1.88773635]\n",
      " [ 1.87857639 -4.2014945 ]\n",
      " [ 0.1661884  -0.49673396]]\n",
      "[[-2.98474421  1.81545992]\n",
      " [ 1.79856883  1.95373897]\n",
      " [ 1.84012274 -4.13675116]\n",
      " [ 0.06354201 -0.2029132 ]]\n",
      "[[-3.04862622  1.85340542]\n",
      " [ 1.88073218  1.9820243 ]\n",
      " [ 1.84012274 -4.13675116]\n",
      " [ 0.00773286 -0.06380801]]\n",
      "[[-3.07703402e+00  1.85266958e+00]\n",
      " [ 1.91248297e+00  2.00204407e+00]\n",
      " [ 1.84012274e+00 -4.13675116e+00]\n",
      " [ 1.33733963e-02 -3.71451966e-04]]\n",
      "[[-3.07703402e+00  1.85266958e+00]\n",
      " [ 1.91248297e+00  2.00204407e+00]\n",
      " [ 1.84012274e+00 -4.13675116e+00]\n",
      " [ 1.33733963e-02 -3.71451966e-04]]\n"
     ]
    }
   ],
   "source": [
    "import numpy as np\n",
    "from PIL import Image as im\n",
    "import matplotlib.pyplot as plt\n",
    "import sklearn.datasets as datasets\n",
    "\n",
    "centers = [[0, 0], [2, 2], [-3, 2], [2, -4]]\n",
    "X, _ = datasets.make_blobs(n_samples=300, centers=centers, cluster_std=1, random_state=0)\n",
    "\n",
    "class KMeans():\n",
    "\n",
    "    def __init__(self, data, k):\n",
    "        self.data = data\n",
    "        self.k = k\n",
    "        self.assignment = [-1 for _ in range(len(data))]\n",
    "        self.snaps = []\n",
    "    \n",
    "    def snap(self, centers):\n",
    "        TEMPFILE = \"temp.png\"\n",
    "\n",
    "        fig, ax = plt.subplots()\n",
    "        ax.scatter(X[:, 0], X[:, 1], c=self.assignment)\n",
    "        ax.scatter(centers[:,0], centers[:, 1], c='r')\n",
    "        fig.savefig(TEMPFILE)\n",
    "        plt.close()\n",
    "        self.snaps.append(im.fromarray(np.asarray(im.open(TEMPFILE))))\n",
    "        \n",
    "    def is_unassigned(self, i):\n",
    "        return self.assignment[i] == -1\n",
    "    \n",
    "    def unassign_all(self):\n",
    "        self.assignment = [-1 for _ in range(len(self.data))]\n",
    "        \n",
    "    def initialize(self):\n",
    "        return self.data[np.random.choice(range(len(self.data)), size=self.k, replace=False)]\n",
    "    \n",
    "    def are_centers_diff(self, c1, c2):\n",
    "        for i in range(len(c1)):\n",
    "            if c1[i] not in c2:\n",
    "                return True\n",
    "        return False\n",
    "    \n",
    "    def assign(self, centers):\n",
    "        for i in range(len(self.data)):\n",
    "            self.assignment[i] = 0\n",
    "            temp_assign = 0\n",
    "            temp_dist = self.dist(self.data[i], centers[0])\n",
    "            for j in range(1, len(centers)):\n",
    "                new_dist = self.dist(self.data[i], centers[j])\n",
    "                if temp_dist > new_dist:\n",
    "                    self.assignment[i] = j\n",
    "                    temp_dist = new_dist\n",
    "    \n",
    "    def calculate_new_centers(self):\n",
    "        centers = []\n",
    "        for j in range(self.k):\n",
    "            cluster_j = self.data[\n",
    "                np.array([i for i in range(len(self.data)) if self.assignment[i] == j])\n",
    "            ]\n",
    "            centers.append(np.mean(cluster_j,axis=0))\n",
    "        \n",
    "        return np.array(centers)\n",
    "\n",
    "    def dist(self, x, y):\n",
    "        return sum((x - y) ** 2) ** (1/2)\n",
    "\n",
    "    def lloyds(self):\n",
    "        centers = self.initialize()\n",
    "        self.assign(centers)\n",
    "        self.snap(centers)\n",
    "        new_centers = self.calculate_new_centers()\n",
    "        while self.are_centers_diff(centers, new_centers):\n",
    "            centers = new_centers\n",
    "            self.snap(centers)\n",
    "            self.unassign_all()\n",
    "            self.assign(centers)\n",
    "            new_centers = self.calculate_new_centers()\n",
    "            print (new_centers)\n",
    "        return\n",
    "            \n",
    "kmeans = KMeans(X, 4)\n",
    "kmeans.lloyds()\n",
    "images = kmeans.snaps\n",
    "\n",
    "images[0].save(\n",
    "    'kmeans.gif',\n",
    "    optimize=False,\n",
    "    save_all=True,\n",
    "    append_images=images[1:],\n",
    "    loop=0,\n",
    "    duration=500\n",
    ")"
   ]
  },
  {
   "cell_type": "code",
   "execution_count": null,
   "metadata": {},
   "outputs": [],
   "source": []
  }
 ],
 "metadata": {
  "kernelspec": {
   "display_name": "Python 3 (ipykernel)",
   "language": "python",
   "name": "python3"
  },
  "language_info": {
   "codemirror_mode": {
    "name": "ipython",
    "version": 3
   },
   "file_extension": ".py",
   "mimetype": "text/x-python",
   "name": "python",
   "nbconvert_exporter": "python",
   "pygments_lexer": "ipython3",
   "version": "3.9.12"
  },
  "vscode": {
   "interpreter": {
    "hash": "76ca05dc3ea24b2e3b98cdb7774adfbb40773424bf5109b477fd793f623715af"
   }
  }
 },
 "nbformat": 4,
 "nbformat_minor": 2
}
