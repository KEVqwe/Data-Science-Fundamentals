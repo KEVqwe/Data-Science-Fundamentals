{
 "cells": [
  {
   "cell_type": "markdown",
   "metadata": {},
   "source": [
    "# Worksheet 08\n",
    "\n",
    "Name: shengwenouyang\n",
    "UID: U01208928\n",
    "\n",
    "### Topics\n",
    "\n",
    "- Soft Clustering\n",
    "- Clustering Aggregation\n",
    "\n",
    "### Probability Review\n",
    "\n",
    "Read through [the following](https://medium.com/@gallettilance/overview-of-probability-3272b72c82c8)\n",
    "\n",
    "### Soft Clustering\n",
    "\n",
    "We generate 10 data points that come from a normal distribution with mean 5 and variance 1."
   ]
  },
  {
   "cell_type": "code",
   "execution_count": 3,
   "metadata": {},
   "outputs": [
    {
     "name": "stdout",
     "output_type": "stream",
     "text": [
      "[4.301984244552614, 6.515838713382658, 5.077308799719639, 4.683269737298558, 5.563615778348052, 5.5212538566189275, 4.549949579130326, 5.649986318484439, 5.116525629806926, 5.770705095450769]\n"
     ]
    }
   ],
   "source": [
    "import random\n",
    "import numpy as np\n",
    "from sklearn.cluster import KMeans\n",
    "\n",
    "mean = 5\n",
    "stdev = 1\n",
    "\n",
    "s1 = np.random.normal(mean, stdev, 10).tolist()\n",
    "print(s1)"
   ]
  },
  {
   "cell_type": "markdown",
   "metadata": {},
   "source": [
    "a) Generate 10 more data points, this time coming from a normal distribution with mean 8 and variance 1."
   ]
  },
  {
   "cell_type": "code",
   "execution_count": 2,
   "metadata": {},
   "outputs": [
    {
     "name": "stdout",
     "output_type": "stream",
     "text": [
      "[8.45268934718009, 10.094663610217708, 9.95413672675887, 6.297718610061651, 9.786358769981133, 8.31141632299577, 9.207268911190072, 6.650821803260065, 8.834945576935423, 7.815905773523445]\n"
     ]
    }
   ],
   "source": [
    "import random\n",
    "import numpy as np\n",
    "from sklearn.cluster import KMeans\n",
    "\n",
    "mean = 8\n",
    "stdev = 1\n",
    "\n",
    "\n",
    "s2 = np.random.normal(mean, stdev, 10).tolist()\n",
    "print(s2)"
   ]
  },
  {
   "cell_type": "markdown",
   "metadata": {},
   "source": [
    "b) Flip a fair coin 10 times. If the coin lands on H, then pick the last data point of `s1` and remove it from `s1`, if T then pick the last data point from `s2` and remove it from `s2`. Add these 10 points to a list called `data`."
   ]
  },
  {
   "cell_type": "code",
   "execution_count": 5,
   "metadata": {},
   "outputs": [
    {
     "name": "stdout",
     "output_type": "stream",
     "text": [
      "[5, 10, 4, 9, 8, 3, 2, 7, 6, 1]\n"
     ]
    }
   ],
   "source": [
    "import random\n",
    "\n",
    "\n",
    "s1 = [1, 2, 3, 4, 5]\n",
    "s2 = [6, 7, 8, 9, 10]\n",
    "\n",
    "data = []\n",
    "\n",
    "for i in range(10):\n",
    "    coin_output = random.choice(['H', 'T'])\n",
    "    \n",
    "    if coin_output == 'H' and s1:\n",
    "        p1 = s1.pop()\n",
    "        data.append(p1)\n",
    "    elif coin_output == 'T' and s2:\n",
    "        p2 = s2.pop()\n",
    "        data.append(p2)\n",
    "    else:\n",
    "        if s1:\n",
    "            p1 = s1.pop()\n",
    "            data.append(p1)\n",
    "        elif s2:\n",
    "            p2 = s2.pop()\n",
    "            data.append(p2)\n",
    "\n",
    "print(data)\n"
   ]
  },
  {
   "cell_type": "markdown",
   "metadata": {},
   "source": [
    "c) This `data` is a Gaussian Mixture Distribution with 2 mixture components. Over the next few questions we will walk through the GMM algorithm to see if we can uncover the parameters we used to generate this data. First, please list all these parameters of the GMM that created `data` and the values we know they have."
   ]
  },
  {
   "cell_type": "markdown",
   "metadata": {},
   "source": []
  },
  {
   "cell_type": "markdown",
   "metadata": {},
   "source": [
    "d) Let's assume there are two mixture components (note: we could plot the data and make the observation that there are two clusters). The EM algorithm asks us to start with a random `mean_j`, `variance_j`, `P(S_j)` for each component j. One method we could use to find sensible values for these is to apply K means with k=2 here.\n",
    "\n",
    "1. the centroids would be the estimates of the `mean_j`\n",
    "2. the intra-cluster variance could be the estimate of `variance_j`\n",
    "3. the proportion of points in each cluster could be the estimate of `P(S_j)`\n",
    "\n",
    "Go through this process and list the parameter estimates it gives. Are they close or far from the true values?"
   ]
  },
  {
   "cell_type": "code",
   "execution_count": 7,
   "metadata": {},
   "outputs": [
    {
     "name": "stdout",
     "output_type": "stream",
     "text": [
      "P(S_1) = 0.5,  P(S_2) = 0.5\n",
      "mean_1 = 3.0,  mean_2 = 8.0\n",
      "var_1 = 2.0,  var_2 = 2.0\n"
     ]
    }
   ],
   "source": [
    "from sklearn.cluster import KMeans\n",
    "\n",
    "kmeans = KMeans(2, init='k-means++').fit(X=np.array(data).reshape(-1, 1))\n",
    "\n",
    "s1 = [x[0] for x in filter(lambda x: x[1] == 0, zip(data, kmeans.labels_))]\n",
    "s2 = [x[0] for x in filter(lambda x: x[1] == 1, zip(data, kmeans.labels_))]\n",
    "\n",
    "prob_s = [len(s1) / (len(s1) + len(s2)), len(s2) / (len(s1) + len(s2))]\n",
    "mean = [sum(s1)/len(s1), sum(s2)/len(s2)]\n",
    "var = [sum((x - mean[0])**2 for x in s1) / len(s1), sum((x - mean[1])**2 for x in s2) / len(s2)]\n",
    "\n",
    "print(\"P(S_1) = \" + str(prob_s[0]) + \",  P(S_2) = \" + str(prob_s[1]))\n",
    "print(\"mean_1 = \" + str(mean[0]) + \",  mean_2 = \" + str(mean[1]))\n",
    "print(\"var_1 = \" + str(var[0]) + \",  var_2 = \" + str(var[1]))\n"
   ]
  },
  {
   "cell_type": "markdown",
   "metadata": {},
   "source": []
  },
  {
   "cell_type": "markdown",
   "metadata": {},
   "source": [
    "e) For each data point, compute `P(S_j | X_i)`. Comment on which cluster you think each point belongs to based on the estimated probabilities. How does that compare to the truth?"
   ]
  },
  {
   "cell_type": "code",
   "execution_count": 11,
   "metadata": {},
   "outputs": [
    {
     "name": "stdout",
     "output_type": "stream",
     "text": [
      "5\n",
      "Probability of coming from S_1 = 0.6513548646660543\n",
      "Probability of coming from S_2 = 0.3486451353339458\n",
      "\n",
      "10\n",
      "Probability of coming from S_1 = 0.00359360258142009\n",
      "Probability of coming from S_2 = 0.99640639741858\n",
      "\n",
      "4\n",
      "Probability of coming from S_1 = 0.8670357598021707\n",
      "Probability of coming from S_2 = 0.13296424019782926\n",
      "\n",
      "9\n",
      "Probability of coming from S_1 = 0.01243165085318582\n",
      "Probability of coming from S_2 = 0.9875683491468142\n",
      "\n",
      "8\n",
      "Probability of coming from S_1 = 0.04208772791561885\n",
      "Probability of coming from S_2 = 0.9579122720843812\n",
      "\n",
      "3\n",
      "Probability of coming from S_1 = 0.9579122720843812\n",
      "Probability of coming from S_2 = 0.04208772791561885\n",
      "\n",
      "2\n",
      "Probability of coming from S_1 = 0.9875683491468142\n",
      "Probability of coming from S_2 = 0.01243165085318582\n",
      "\n",
      "7\n",
      "Probability of coming from S_1 = 0.13296424019782926\n",
      "Probability of coming from S_2 = 0.8670357598021707\n",
      "\n",
      "6\n",
      "Probability of coming from S_1 = 0.3486451353339458\n",
      "Probability of coming from S_2 = 0.6513548646660543\n",
      "\n",
      "1\n",
      "Probability of coming from S_1 = 0.99640639741858\n",
      "Probability of coming from S_2 = 0.00359360258142009\n",
      "\n"
     ]
    }
   ],
   "source": [
    "from scipy.stats import norm\n",
    "\n",
    "prob_s0_x = [] # P(S_0 | X_i)\n",
    "prob_s1_x = [] # P(S_1 | X_i)\n",
    "prob_x = [] # P(X_i)\n",
    "\n",
    "k = 2\n",
    "\n",
    "for p in data:\n",
    "    pdf_i = []\n",
    "\n",
    "    for j in range(k):\n",
    "        # P(X_i | S_j)\n",
    "        pdf_i.append(norm.pdf(p, mean[j], var[j]))\n",
    "    prob_x_i = prob_s[0] * pdf_i[0] + prob_s[1] * pdf_i[1]\n",
    "    prob_s0_x_i = (pdf_i[0] * prob_s[0]) / prob_x_i\n",
    "    prob_s1_x_i = (pdf_i[1] * prob_s[1]) / prob_x_i\n",
    "    prob_s0_x.append(prob_s0_x_i)\n",
    "    prob_s1_x.append(prob_s1_x_i)\n",
    "\n",
    "probs = zip(data, prob_s0_x, prob_s1_x)\n",
    "for p in probs:\n",
    "    print(p[0])\n",
    "    print(\"Probability of coming from S_1 = \" + str(p[1]))\n",
    "    print(\"Probability of coming from S_2 = \" + str(p[2]))\n",
    "    print()\n"
   ]
  },
  {
   "cell_type": "markdown",
   "metadata": {},
   "source": [
    "f) Having computed `P(S_j | X_i)`, update the estimates of `mean_j`, `var_j`, and `P(S_j)`. How different are these values from the original ones you got from K means? briefly comment."
   ]
  },
  {
   "cell_type": "code",
   "execution_count": 12,
   "metadata": {},
   "outputs": [
    {
     "name": "stdout",
     "output_type": "stream",
     "text": [
      "P(S_1) = 0.5000000000000001,  P(S_2) = 0.5\n",
      "mean_1 = 3.2154680949421213,  mean_2 = 7.784531905057878\n",
      "var_1 = 3.030913974772622,  var_2 = 3.0309139747726226\n"
     ]
    }
   ],
   "source": [
    "prob_c = [sum(prob_s0_x) / len(prob_s0_x), sum(prob_s1_x) / len(prob_s1_x)]\n",
    "mean = [sum([x[0] * x[1] for x in zip(prob_s0_x, data)]) / sum(prob_s0_x),\n",
    "        sum([x[0] * x[1] for x in zip(prob_s1_x, data)]) / sum(prob_s1_x)]\n",
    "var = [sum([x * (data[i] - mean[0])**2 for i, x in enumerate(prob_s0_x)]) / sum(prob_s0_x),\n",
    "       sum([x * (data[i] - mean[1])**2 for i, x in enumerate(prob_s1_x)]) / sum(prob_s1_x)]\n",
    "\n",
    "print(\"P(S_1) = \" + str(prob_c[0]) + \",  P(S_2) = \" + str(prob_c[1]))\n",
    "print(\"mean_1 = \" + str(mean[0]) + \",  mean_2 = \" + str(mean[1]))\n",
    "print(\"var_1 = \" + str(var[0]) + \",  var_2 = \" + str(var[1]))\n"
   ]
  },
  {
   "cell_type": "markdown",
   "metadata": {},
   "source": []
  },
  {
   "cell_type": "markdown",
   "metadata": {},
   "source": [
    "g) Update `P(S_j | X_i)`. Comment on any differences or lack thereof you observe."
   ]
  },
  {
   "cell_type": "code",
   "execution_count": 18,
   "metadata": {},
   "outputs": [],
   "source": [
    "prob_s0_x = [(pdf_i[0] * prob_c[0]) / prob_x_i for pdf_i, prob_x_i in zip(pdf_i, prob_x)]\n",
    "prob_s1_x = [(pdf_i[1] * prob_c[1]) / prob_x_i for pdf_i, prob_x_i in zip(pdf_i, prob_x)]"
   ]
  },
  {
   "cell_type": "markdown",
   "metadata": {},
   "source": []
  },
  {
   "cell_type": "markdown",
   "metadata": {},
   "source": [
    "h) Use `P(S_j | X_i)` to create a hard assignment - label each point as belonging to a specific cluster (0 or 1)"
   ]
  },
  {
   "cell_type": "code",
   "execution_count": 19,
   "metadata": {},
   "outputs": [
    {
     "name": "stdout",
     "output_type": "stream",
     "text": [
      "Hard assignments for each data point: []\n"
     ]
    }
   ],
   "source": [
    "hard_assignments = [0 if prob_s0_x_i > prob_s1_x_i else 1 for prob_s0_x_i, prob_s1_x_i in zip(prob_s0_x, prob_s1_x)]\n",
    "\n",
    "print(\"Hard assignments for each data point:\", hard_assignments)\n"
   ]
  },
  {
   "cell_type": "code",
   "execution_count": null,
   "metadata": {},
   "outputs": [],
   "source": []
  }
 ],
 "metadata": {
  "kernelspec": {
   "display_name": "Python 3 (ipykernel)",
   "language": "python",
   "name": "python3"
  },
  "language_info": {
   "codemirror_mode": {
    "name": "ipython",
    "version": 3
   },
   "file_extension": ".py",
   "mimetype": "text/x-python",
   "name": "python",
   "nbconvert_exporter": "python",
   "pygments_lexer": "ipython3",
   "version": "3.9.12"
  },
  "vscode": {
   "interpreter": {
    "hash": "e7370f93d1d0cde622a1f8e1c04877d8463912d04d973331ad4851f04de6915a"
   }
  }
 },
 "nbformat": 4,
 "nbformat_minor": 2
}
